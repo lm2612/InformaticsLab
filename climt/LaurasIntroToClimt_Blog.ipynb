{
 "cells": [
  {
   "cell_type": "markdown",
   "metadata": {},
   "source": [
    "## What is CliMT?\n",
    "https://climt.readthedocs.io/en/latest/index.html\n",
    "Climate Modelling and Diagnostics Toolkit\n",
    "\"a Python based library which provides a modular and intuitive approach to writing numerical models of the climate system. CliMT provides state-of-the art components and an easy-to-use interface to allow writing research quality models without the hassle of modifying Fortran code.\"\n",
    "\n",
    "Like the Met Office's Unified Model, the majority of climate models are written in Fortran or C. This is great for performance but it is difficult for researchers to edit and change model configurations. The key benefit of CliMT is that the user can more easily build up complex models, change configurations and swap in various components. \n",
    "\n",
    "CliMT is written in Python, which is commonly used for climate model data analysis, allowing the modelling and analysis to be integrated. This opens up more doors for analysis methods that combine statistics or machine learning with the physics. An example of this is probabilistic Bayesian inference which combines a known model with observations to infer latent variables, which can then be used in other aspects of the model.\n",
    "\n",
    "CliMT makes use of modules which can be built up to create more and more complex models, without the need for the user to rewrite code at each stage. To do this, it uses Sympl, A System for Modelling Planets, which is designed for writing modular Earth system and planetary models, making them easily readable and understandable. \n"
   ]
  },
  {
   "cell_type": "markdown",
   "metadata": {},
   "source": [
    "https://climt.readthedocs.io/en/latest/quickstart.html and https://sympl.readthedocs.io/en/latest/quickstart.html#quickstart\n",
    "says the essential aspects are:\n",
    "\n",
    "1. Initialise components: \n",
    "    * Initialize model components, providing configuration information\n",
    "    * Use `Wrapper` components to modify the behaviour of any components if necessary.\n",
    "    \n",
    "2. Initialise state:\n",
    "    * Set up grid\n",
    "    * Create a state dictionary using `get_default_state`\n",
    "    * Use `TendencyStepper` to collect all `TendencyComponent` components into a component that can step the model state forward in time\n",
    " \n",
    "3. Main loop to step forward in time and run the components. At each iteration:\n",
    "    * Call `DiagnosticComponent` to compute any derived quantities from prognostic quantities or provide forcing quantities at a given time step.\n",
    "    * Call `Stepper` components and get a new state dictionary with the updated model quantities and any diag- nostics. Update the initial model state with diagnostics.\n",
    "    * Call `TendencyStepper` and get a new state dictio- nary with the updated model quantities and any diagnostics. Update the initial model state with diagnostics.\n",
    "    * Call any `Monitor` components to store the initial model state (e.g. store to disk, display in real time, send over the network).\n",
    "\n"
   ]
  },
  {
   "cell_type": "markdown",
   "metadata": {},
   "source": [
    "## 0. Imports"
   ]
  },
  {
   "cell_type": "code",
   "execution_count": 34,
   "metadata": {},
   "outputs": [],
   "source": [
    "import climt\n",
    "import sympl\n",
    "import matplotlib.pyplot as plt\n",
    "import numpy as np"
   ]
  },
  {
   "cell_type": "markdown",
   "metadata": {},
   "source": [
    "## 1. Initialise components.\n",
    "\n",
    "Components represent the physical processes. Examples include: convection, radiation, surface, dynamical core, ice processes, ...\n",
    "https://climt.readthedocs.io/en/latest/components.html#component-list\n",
    "\n",
    "They take in inputs from the model state and return outputs (\"tendencies\") and diagnostics."
   ]
  },
  {
   "cell_type": "code",
   "execution_count": 49,
   "metadata": {},
   "outputs": [],
   "source": [
    "radiation = climt.GrayLongwaveRadiation()\n",
    "convection = climt.DryConvectiveAdjustment()\n",
    "simple_physics = sympl.TimeDifferencingWrapper(climt.SimplePhysics())"
   ]
  },
  {
   "cell_type": "markdown",
   "metadata": {},
   "source": [
    "We will start with 3 components: longwave radiation, convection and a simple physics component for the boundary layer, following the setup in the paper https://www.geosci-model-dev.net/11/3781/2018/gmd-11-3781-2018.pdf. \n",
    "\n",
    "You can put in arguments to these components, but for now let's keep these at the default values (chosen to be sensible for the Earth's system). I'll start with a 1D example, in height, by setting up the grid with 10 points in the vertical."
   ]
  },
  {
   "cell_type": "markdown",
   "metadata": {},
   "source": [
    "Here we can use wrappers if required. These are used to change the inputs or outputs of a component to make it apparently work in a different way. Examples include the `TimeDifferencingWrapper` which provides the output of the components as time tendencies by using a finite diference scheme. We use this on the `SimplePhysics` component because we will be using a spectral dynamical core, which doesn't work well with components that step forward the model in grid space.  We could also choose wrappers such as the `UpdateFrequencyWrapper` which can be used to call components less frequently than the model timestep specified, such as the radiative scheme which can be called every hour, rather than every 10 minutes.\n",
    "https://climt.readthedocs.io/en/latest/configuration.html"
   ]
  },
  {
   "cell_type": "markdown",
   "metadata": {},
   "source": [
    "## 2. Initialise state"
   ]
  },
  {
   "cell_type": "markdown",
   "metadata": {},
   "source": [
    "a) Create a grid, which is a dictionary of dimensions\n",
    "Here we can define the size of the grid. We will start with a 1D grid, an atmospheric column of air. "
   ]
  },
  {
   "cell_type": "code",
   "execution_count": 50,
   "metadata": {},
   "outputs": [
    {
     "name": "stdout",
     "output_type": "stream",
     "text": [
      "atmosphere_hybrid_sigma_pressure_a_coordinate_on_interface_levels\n",
      "atmosphere_hybrid_sigma_pressure_b_coordinate_on_interface_levels\n",
      "surface_air_pressure\n",
      "time\n",
      "air_pressure\n",
      "air_pressure_on_interface_levels\n",
      "longitude\n",
      "latitude\n",
      "height_on_ice_interface_levels\n"
     ]
    }
   ],
   "source": [
    "grid = climt.get_grid(nx=18, ny=18, nz=10)\n",
    "print(*grid,sep='\\n')"
   ]
  },
  {
   "cell_type": "code",
   "execution_count": null,
   "metadata": {},
   "outputs": [],
   "source": []
  },
  {
   "cell_type": "markdown",
   "metadata": {},
   "source": [
    "b) Create a state dictionary using `get_default_state`. This gives a dictionary of quantities that are inputs or outputs to the components. It also sets up the initial conditions. "
   ]
  },
  {
   "cell_type": "code",
   "execution_count": 63,
   "metadata": {},
   "outputs": [
    {
     "name": "stdout",
     "output_type": "stream",
     "text": [
      "atmosphere_hybrid_sigma_pressure_a_coordinate_on_interface_levels\n",
      "atmosphere_hybrid_sigma_pressure_b_coordinate_on_interface_levels\n",
      "surface_air_pressure\n",
      "time\n",
      "air_pressure\n",
      "air_pressure_on_interface_levels\n",
      "longitude\n",
      "latitude\n",
      "height_on_ice_interface_levels\n",
      "longwave_optical_depth_on_interface_levels\n",
      "air_temperature\n",
      "surface_temperature\n",
      "specific_humidity\n",
      "northward_wind\n",
      "eastward_wind\n",
      "surface_specific_humidity\n"
     ]
    }
   ],
   "source": [
    "state = climt.get_default_state([radiation, convection, simple_physics], grid_state=grid)\n",
    "print(*state,sep='\\n')"
   ]
  },
  {
   "cell_type": "code",
   "execution_count": 64,
   "metadata": {},
   "outputs": [
    {
     "data": {
      "text/plain": [
       "<xarray.DataArray 'air_temperature' (mid_levels: 10, lat: 18, lon: 18)>\n",
       "array([[[290., 290., ..., 290., 290.],\n",
       "        [290., 290., ..., 290., 290.],\n",
       "        ...,\n",
       "        [290., 290., ..., 290., 290.],\n",
       "        [290., 290., ..., 290., 290.]],\n",
       "\n",
       "       [[290., 290., ..., 290., 290.],\n",
       "        [290., 290., ..., 290., 290.],\n",
       "        ...,\n",
       "        [290., 290., ..., 290., 290.],\n",
       "        [290., 290., ..., 290., 290.]],\n",
       "\n",
       "       ...,\n",
       "\n",
       "       [[290., 290., ..., 290., 290.],\n",
       "        [290., 290., ..., 290., 290.],\n",
       "        ...,\n",
       "        [290., 290., ..., 290., 290.],\n",
       "        [290., 290., ..., 290., 290.]],\n",
       "\n",
       "       [[290., 290., ..., 290., 290.],\n",
       "        [290., 290., ..., 290., 290.],\n",
       "        ...,\n",
       "        [290., 290., ..., 290., 290.],\n",
       "        [290., 290., ..., 290., 290.]]])\n",
       "Dimensions without coordinates: mid_levels, lat, lon\n",
       "Attributes:\n",
       "    units:    degK"
      ]
     },
     "execution_count": 64,
     "metadata": {},
     "output_type": "execute_result"
    }
   ],
   "source": [
    "state['air_temperature']"
   ]
  },
  {
   "cell_type": "code",
   "execution_count": 52,
   "metadata": {},
   "outputs": [],
   "source": [
    "state['eastward_wind'].values[:] = np.random.randn(*state['eastward_wind'].shape)\n",
    "state['surface_temperature'].values[:] = np.random.randn(*state['surface_temperature'].shape)\n",
    "\n"
   ]
  },
  {
   "cell_type": "markdown",
   "metadata": {},
   "source": [
    "## 3. Run main loop"
   ]
  },
  {
   "cell_type": "markdown",
   "metadata": {},
   "source": [
    "Before we run the loop, lets take a look at what some of the components do. For example, we'll start with the radiation component, which returns:\n",
    "* `tendencies`: the local rate of change of a quantity with time at a given point in space. https://encyclopedia2.thefreedictionary.com/tendency\n",
    "* `diagnostics`: variables not directly tracked by the model itself, that are instead derived from other variables. https://en.wikipedia.org/wiki/Prognostic_variable\n",
    "In CliMT, these outputs are dictionaries. We can check the properties using `tendency_properties` and `diagnostic_properties`, which tells us the names, dimensions and units of the returned dictionaries. "
   ]
  },
  {
   "cell_type": "code",
   "execution_count": 53,
   "metadata": {},
   "outputs": [
    {
     "name": "stdout",
     "output_type": "stream",
     "text": [
      "RADIATION TENDENCIES:\n",
      " {'air_temperature': {'units': 'degK s^-1'}}\n",
      "RADIATION DIAGNOSTICS:\n",
      " {'downwelling_longwave_flux_in_air': {'dims': ['interface_levels', '*'], 'units': 'W m^-2', 'alias': 'lw_down'}, 'upwelling_longwave_flux_in_air': {'dims': ['interface_levels', '*'], 'units': 'W m^-2', 'alias': 'lw_up'}, 'longwave_heating_rate': {'dims': ['mid_levels', '*'], 'units': 'degK day^-1'}}\n"
     ]
    }
   ],
   "source": [
    "print(\"RADIATION TENDENCIES:\", radiation.tendency_properties, sep='\\n ')\n",
    "print(\"RADIATION DIAGNOSTICS:\", radiation.diagnostic_properties, sep='\\n ')"
   ]
  },
  {
   "cell_type": "markdown",
   "metadata": {},
   "source": [
    "To calculate these tendencies and diagnostics, we run `radiation` on the state."
   ]
  },
  {
   "cell_type": "code",
   "execution_count": 54,
   "metadata": {},
   "outputs": [
    {
     "data": {
      "image/png": "[encoded data removed]",
      "text/plain": [
       "<Figure size 432x288 with 1 Axes>"
      ]
     },
     "metadata": {
      "needs_background": "light"
     },
     "output_type": "display_data"
    }
   ],
   "source": [
    "tendencies, diagnostics = radiation(state)\n",
    "\n",
    "plt.plot(tendencies['air_temperature'].values.flatten(), \n",
    "         state['air_pressure'].values.flatten() )\n",
    "ax = plt.gca()\n",
    "ax.axes.invert_yaxis(), ax.set_ylim(1e5, 100.), \n",
    "ax.set_xlabel('K'), ax.set_ylabel('Pa'), ax.set_title('Air Temperature');"
   ]
  },
  {
   "cell_type": "code",
   "execution_count": 55,
   "metadata": {},
   "outputs": [],
   "source": [
    "state.update(diagnostics)\n",
    "\n"
   ]
  },
  {
   "cell_type": "markdown",
   "metadata": {},
   "source": [
    "Now let's check the convection scheme. This requires a second argument, a timestep, to step forward in time. "
   ]
  },
  {
   "cell_type": "code",
   "execution_count": 56,
   "metadata": {},
   "outputs": [
    {
     "ename": "AttributeError",
     "evalue": "'DryConvectiveAdjustment' object has no attribute 'tendency_properties'",
     "output_type": "error",
     "traceback": [
      "\u001b[0;31m---------------------------------------------------------------------------\u001b[0m",
      "\u001b[0;31mAttributeError\u001b[0m                            Traceback (most recent call last)",
      "\u001b[0;32m<ipython-input-56-26861c457c96>\u001b[0m in \u001b[0;36m<module>\u001b[0;34m\u001b[0m\n\u001b[0;32m----> 1\u001b[0;31m \u001b[0mprint\u001b[0m\u001b[0;34m(\u001b[0m\u001b[0;34m\"CONVECTION TENDENCIES:\"\u001b[0m\u001b[0;34m,\u001b[0m \u001b[0mconvection\u001b[0m\u001b[0;34m.\u001b[0m\u001b[0mtendency_properties\u001b[0m\u001b[0;34m,\u001b[0m \u001b[0msep\u001b[0m\u001b[0;34m=\u001b[0m\u001b[0;34m'\\n '\u001b[0m\u001b[0;34m)\u001b[0m\u001b[0;34m\u001b[0m\u001b[0;34m\u001b[0m\u001b[0m\n\u001b[0m\u001b[1;32m      2\u001b[0m \u001b[0mprint\u001b[0m\u001b[0;34m(\u001b[0m\u001b[0;34m\"CONVECTION DIAGNOSTICS:\"\u001b[0m\u001b[0;34m,\u001b[0m \u001b[0mconvection\u001b[0m\u001b[0;34m.\u001b[0m\u001b[0mdiagnostic_properties\u001b[0m\u001b[0;34m,\u001b[0m \u001b[0msep\u001b[0m\u001b[0;34m=\u001b[0m\u001b[0;34m'\\n '\u001b[0m\u001b[0;34m)\u001b[0m\u001b[0;34m\u001b[0m\u001b[0;34m\u001b[0m\u001b[0m\n",
      "\u001b[0;31mAttributeError\u001b[0m: 'DryConvectiveAdjustment' object has no attribute 'tendency_properties'"
     ]
    }
   ],
   "source": [
    "print(\"CONVECTION TENDENCIES:\", convection.tendency_properties, sep='\\n ')\n",
    "print(\"CONVECTION DIAGNOSTICS:\", convection.diagnostic_properties, sep='\\n ')"
   ]
  },
  {
   "cell_type": "code",
   "execution_count": 57,
   "metadata": {},
   "outputs": [],
   "source": [
    "from datetime import timedelta\n",
    "timestep = timedelta(minutes=200)"
   ]
  },
  {
   "cell_type": "code",
   "execution_count": 58,
   "metadata": {},
   "outputs": [
    {
     "data": {
      "text/plain": [
       "({}, {'air_temperature': <xarray.DataArray (mid_levels: 10, lat: 18, lon: 18)>\n",
       "  array([[[290., 290., ..., 290., 290.],\n",
       "          [290., 290., ..., 290., 290.],\n",
       "          ...,\n",
       "          [290., 290., ..., 290., 290.],\n",
       "          [290., 290., ..., 290., 290.]],\n",
       "  \n",
       "         [[290., 290., ..., 290., 290.],\n",
       "          [290., 290., ..., 290., 290.],\n",
       "          ...,\n",
       "          [290., 290., ..., 290., 290.],\n",
       "          [290., 290., ..., 290., 290.]],\n",
       "  \n",
       "         ...,\n",
       "  \n",
       "         [[290., 290., ..., 290., 290.],\n",
       "          [290., 290., ..., 290., 290.],\n",
       "          ...,\n",
       "          [290., 290., ..., 290., 290.],\n",
       "          [290., 290., ..., 290., 290.]],\n",
       "  \n",
       "         [[290., 290., ..., 290., 290.],\n",
       "          [290., 290., ..., 290., 290.],\n",
       "          ...,\n",
       "          [290., 290., ..., 290., 290.],\n",
       "          [290., 290., ..., 290., 290.]]])\n",
       "  Dimensions without coordinates: mid_levels, lat, lon\n",
       "  Attributes:\n",
       "      units:    degK,\n",
       "  'specific_humidity': <xarray.DataArray (mid_levels: 10, lat: 18, lon: 18)>\n",
       "  array([[[0., 0., ..., 0., 0.],\n",
       "          [0., 0., ..., 0., 0.],\n",
       "          ...,\n",
       "          [0., 0., ..., 0., 0.],\n",
       "          [0., 0., ..., 0., 0.]],\n",
       "  \n",
       "         [[0., 0., ..., 0., 0.],\n",
       "          [0., 0., ..., 0., 0.],\n",
       "          ...,\n",
       "          [0., 0., ..., 0., 0.],\n",
       "          [0., 0., ..., 0., 0.]],\n",
       "  \n",
       "         ...,\n",
       "  \n",
       "         [[0., 0., ..., 0., 0.],\n",
       "          [0., 0., ..., 0., 0.],\n",
       "          ...,\n",
       "          [0., 0., ..., 0., 0.],\n",
       "          [0., 0., ..., 0., 0.]],\n",
       "  \n",
       "         [[0., 0., ..., 0., 0.],\n",
       "          [0., 0., ..., 0., 0.],\n",
       "          ...,\n",
       "          [0., 0., ..., 0., 0.],\n",
       "          [0., 0., ..., 0., 0.]]])\n",
       "  Dimensions without coordinates: mid_levels, lat, lon\n",
       "  Attributes:\n",
       "      units:    kg/kg})"
      ]
     },
     "execution_count": 58,
     "metadata": {},
     "output_type": "execute_result"
    }
   ],
   "source": [
    "convection(state, timestep)"
   ]
  },
  {
   "cell_type": "code",
   "execution_count": 66,
   "metadata": {},
   "outputs": [
    {
     "data": {
      "image/png": "[encoded data removed]",
      "text/plain": [
       "<Figure size 432x288 with 1 Axes>"
      ]
     },
     "metadata": {
      "needs_background": "light"
     },
     "output_type": "display_data"
    }
   ],
   "source": [
    "tendencies, diagnostics = convection(state, timestep)\n",
    "plt.plot(diagnostics['specific_humidity'].values.flatten(), \n",
    "         state['air_pressure'].values.flatten() )\n",
    "ax = plt.gca()\n",
    "ax.axes.invert_yaxis(), ax.set_ylim(1e5, 100.), \n",
    "ax.set_xlabel('K'), ax.set_ylabel('Pa'), ax.set_title('Air Temperature');\n"
   ]
  },
  {
   "cell_type": "code",
   "execution_count": 67,
   "metadata": {},
   "outputs": [
    {
     "ename": "KeyError",
     "evalue": "'air_temperature'",
     "output_type": "error",
     "traceback": [
      "\u001b[0;31m---------------------------------------------------------------------------\u001b[0m",
      "\u001b[0;31mKeyError\u001b[0m                                  Traceback (most recent call last)",
      "\u001b[0;32m<ipython-input-67-108e70df3c26>\u001b[0m in \u001b[0;36m<module>\u001b[0;34m\u001b[0m\n\u001b[0;32m----> 1\u001b[0;31m \u001b[0mtendencies\u001b[0m\u001b[0;34m[\u001b[0m\u001b[0;34m'air_temperature'\u001b[0m\u001b[0;34m]\u001b[0m\u001b[0;34m.\u001b[0m\u001b[0mdims\u001b[0m\u001b[0;34m\u001b[0m\u001b[0;34m\u001b[0m\u001b[0m\n\u001b[0m",
      "\u001b[0;31mKeyError\u001b[0m: 'air_temperature'"
     ]
    }
   ],
   "source": [
    "tendencies['air_temperature'].dims"
   ]
  },
  {
   "cell_type": "markdown",
   "metadata": {},
   "source": [
    "We could also have checked what the associated tendencies and diagnostics are using the `tendency_properties` and `diagnostic_properties`. This also tells us their names, dimensions and units."
   ]
  },
  {
   "cell_type": "code",
   "execution_count": 68,
   "metadata": {},
   "outputs": [
    {
     "name": "stdout",
     "output_type": "stream",
     "text": [
      "RADIATION:\n",
      "TENDENCIES:\n",
      " {'air_temperature': {'units': 'degK s^-1'}}\n",
      "DIAGNOSTICS:\n",
      " {'downwelling_longwave_flux_in_air': {'dims': ['interface_levels', '*'], 'units': 'W m^-2', 'alias': 'lw_down'}, 'upwelling_longwave_flux_in_air': {'dims': ['interface_levels', '*'], 'units': 'W m^-2', 'alias': 'lw_up'}, 'longwave_heating_rate': {'dims': ['mid_levels', '*'], 'units': 'degK day^-1'}}\n"
     ]
    }
   ],
   "source": [
    "print(\"RADIATION:\")\n",
    "print(\"TENDENCIES:\", radiation.tendency_properties, sep='\\n ')\n",
    "print(\"DIAGNOSTICS:\", radiation.diagnostic_properties, sep='\\n ')"
   ]
  },
  {
   "cell_type": "code",
   "execution_count": 69,
   "metadata": {},
   "outputs": [
    {
     "name": "stdout",
     "output_type": "stream",
     "text": [
      "SIMPLE PHYSICS:\n",
      "TENDENCIES:\n",
      " {'air_temperature': {'units': 'degK s^-1'}, 'specific_humidity': {'units': 'kg/kg s^-1'}, 'northward_wind': {'units': 'm s^-1 s^-1'}, 'eastward_wind': {'units': 'm s^-1 s^-1'}}\n",
      "DIAGNOSTICS:\n",
      " {'stratiform_precipitation_rate': {'dims': ['*'], 'units': 'm s^-1'}, 'surface_upward_latent_heat_flux': {'dims': ['*'], 'units': 'W m^-2'}, 'surface_upward_sensible_heat_flux': {'dims': ['*'], 'units': 'W m^-2'}}\n"
     ]
    }
   ],
   "source": [
    "print(\"SIMPLE PHYSICS:\")\n",
    "print(\"TENDENCIES:\", simple_physics.tendency_properties, sep='\\n ')\n",
    "print(\"DIAGNOSTICS:\", simple_physics.diagnostic_properties, sep='\\n ')"
   ]
  },
  {
   "cell_type": "code",
   "execution_count": 70,
   "metadata": {},
   "outputs": [
    {
     "data": {
      "image/png": "[encoded data removed]",
      "text/plain": [
       "<Figure size 432x288 with 1 Axes>"
      ]
     },
     "metadata": {
      "needs_background": "light"
     },
     "output_type": "display_data"
    }
   ],
   "source": [
    "simple_physics.tendency_properties\n",
    "tendencies, diagnostics = simple_physics(state, timestep)\n",
    "plt.plot(tendencies['air_temperature'].values.flatten(), \n",
    "         state['air_pressure'].values.flatten() )\n",
    "ax = plt.gca()\n",
    "ax.axes.invert_yaxis(), ax.set_ylim(1e5, 100.), \n",
    "ax.set_xlabel('K'), ax.set_ylabel('Pa'), ax.set_title('Air Temperature');"
   ]
  },
  {
   "cell_type": "code",
   "execution_count": 71,
   "metadata": {},
   "outputs": [],
   "source": [
    "from datetime import timedelta\n",
    "timestep = timedelta(hours=1)"
   ]
  },
  {
   "cell_type": "code",
   "execution_count": 72,
   "metadata": {},
   "outputs": [],
   "source": [
    "state.update(diagnostics)"
   ]
  },
  {
   "cell_type": "code",
   "execution_count": 76,
   "metadata": {},
   "outputs": [
    {
     "name": "stdout",
     "output_type": "stream",
     "text": [
      "<xarray.DataArray (mid_levels: 10, lat: 18, lon: 18)>\n",
      "array([[[-8.767270e-06, -8.767270e-06, ..., -8.767270e-06, -8.767270e-06],\n",
      "        [-8.767270e-06, -8.767270e-06, ..., -8.767270e-06, -8.767270e-06],\n",
      "        ...,\n",
      "        [-8.767270e-06, -8.767270e-06, ..., -8.767270e-06, -8.767270e-06],\n",
      "        [-8.767270e-06, -8.767270e-06, ..., -8.767270e-06, -8.767270e-06]],\n",
      "\n",
      "       [[-9.610219e-06, -9.610219e-06, ..., -9.610219e-06, -9.610219e-06],\n",
      "        [-9.610219e-06, -9.610219e-06, ..., -9.610219e-06, -9.610219e-06],\n",
      "        ...,\n",
      "        [-9.610219e-06, -9.610219e-06, ..., -9.610219e-06, -9.610219e-06],\n",
      "        [-9.610219e-06, -9.610219e-06, ..., -9.610219e-06, -9.610219e-06]],\n",
      "\n",
      "       ...,\n",
      "\n",
      "       [[-3.458934e-05, -3.458934e-05, ..., -3.458934e-05, -3.458934e-05],\n",
      "        [-3.458934e-05, -3.458934e-05, ..., -3.458934e-05, -3.458934e-05],\n",
      "        ...,\n",
      "        [-3.458934e-05, -3.458934e-05, ..., -3.458934e-05, -3.458934e-05],\n",
      "        [-3.458934e-05, -3.458934e-05, ..., -3.458934e-05, -3.458934e-05]],\n",
      "\n",
      "       [[-3.624390e-05, -3.624390e-05, ..., -3.624390e-05, -3.624390e-05],\n",
      "        [-3.624390e-05, -3.624390e-05, ..., -3.624390e-05, -3.624390e-05],\n",
      "        ...,\n",
      "        [-3.624390e-05, -3.624390e-05, ..., -3.624390e-05, -3.624390e-05],\n",
      "        [-3.624390e-05, -3.624390e-05, ..., -3.624390e-05, -3.624390e-05]]])\n",
      "Dimensions without coordinates: mid_levels, lat, lon\n",
      "Attributes:\n",
      "    units:    degK s^-1\n",
      "<xarray.DataArray (mid_levels: 10, lat: 18, lon: 18)>\n",
      "array([[[0., 0., ..., 0., 0.],\n",
      "        [0., 0., ..., 0., 0.],\n",
      "        ...,\n",
      "        [0., 0., ..., 0., 0.],\n",
      "        [0., 0., ..., 0., 0.]],\n",
      "\n",
      "       [[0., 0., ..., 0., 0.],\n",
      "        [0., 0., ..., 0., 0.],\n",
      "        ...,\n",
      "        [0., 0., ..., 0., 0.],\n",
      "        [0., 0., ..., 0., 0.]],\n",
      "\n",
      "       ...,\n",
      "\n",
      "       [[0., 0., ..., 0., 0.],\n",
      "        [0., 0., ..., 0., 0.],\n",
      "        ...,\n",
      "        [0., 0., ..., 0., 0.],\n",
      "        [0., 0., ..., 0., 0.]],\n",
      "\n",
      "       [[0., 0., ..., 0., 0.],\n",
      "        [0., 0., ..., 0., 0.],\n",
      "        ...,\n",
      "        [0., 0., ..., 0., 0.],\n",
      "        [0., 0., ..., 0., 0.]]])\n",
      "Dimensions without coordinates: mid_levels, lat, lon\n",
      "Attributes:\n",
      "    units:    kg/kg\n",
      "<xarray.DataArray (mid_levels: 10, lat: 18, lon: 18)>\n",
      "array([[[0., 0., ..., 0., 0.],\n",
      "        [0., 0., ..., 0., 0.],\n",
      "        ...,\n",
      "        [0., 0., ..., 0., 0.],\n",
      "        [0., 0., ..., 0., 0.]],\n",
      "\n",
      "       [[0., 0., ..., 0., 0.],\n",
      "        [0., 0., ..., 0., 0.],\n",
      "        ...,\n",
      "        [0., 0., ..., 0., 0.],\n",
      "        [0., 0., ..., 0., 0.]],\n",
      "\n",
      "       ...,\n",
      "\n",
      "       [[0., 0., ..., 0., 0.],\n",
      "        [0., 0., ..., 0., 0.],\n",
      "        ...,\n",
      "        [0., 0., ..., 0., 0.],\n",
      "        [0., 0., ..., 0., 0.]],\n",
      "\n",
      "       [[0., 0., ..., 0., 0.],\n",
      "        [0., 0., ..., 0., 0.],\n",
      "        ...,\n",
      "        [0., 0., ..., 0., 0.],\n",
      "        [0., 0., ..., 0., 0.]]])\n",
      "Dimensions without coordinates: mid_levels, lat, lon\n",
      "Attributes:\n",
      "    units:    degK s^-1\n"
     ]
    }
   ],
   "source": [
    "tendencies, diagnostics = radiation(state)\n",
    "state.update(diagnostics)\n",
    "print(tendencies['air_temperature'])\n",
    "state['air_temperature']+=tendencies['air_temperature']\n",
    "\n",
    "tendencies, diagnostics = convection(state, timestep)\n",
    "state.update(diagnostics)\n",
    "print(diagnostics['specific_humidity'])\n",
    "\n",
    "\n",
    "tendencies, diagnostics = simple_physics(state, timestep)\n",
    "state.update(diagnostics)\n",
    "print(tendencies['air_temperature'])\n",
    "state['air_temperature']+=tendencies['air_temperature']\n",
    "state['specific_humidity']+=tendencies['specific_humidity']\n"
   ]
  },
  {
   "cell_type": "code",
   "execution_count": 77,
   "metadata": {},
   "outputs": [
    {
     "ename": "TypeError",
     "evalue": "Component should be of type (<class 'sympl._core.base_components.TendencyComponent'>, <class 'sympl._core.base_components.ImplicitTendencyComponent'>) but is type <class 'climt._components.dry_convection.component.DryConvectiveAdjustment'>",
     "output_type": "error",
     "traceback": [
      "\u001b[0;31m---------------------------------------------------------------------------\u001b[0m",
      "\u001b[0;31mTypeError\u001b[0m                                 Traceback (most recent call last)",
      "\u001b[0;32m<ipython-input-77-b6f01e5ed531>\u001b[0m in \u001b[0;36m<module>\u001b[0;34m\u001b[0m\n\u001b[0;32m----> 1\u001b[0;31m \u001b[0mcomponent\u001b[0m \u001b[0;34m=\u001b[0m \u001b[0msympl\u001b[0m\u001b[0;34m.\u001b[0m\u001b[0mImplicitTendencyComponentComposite\u001b[0m\u001b[0;34m(\u001b[0m\u001b[0mradiation\u001b[0m\u001b[0;34m,\u001b[0m \u001b[0mconvection\u001b[0m\u001b[0;34m,\u001b[0m \u001b[0msimple_physics\u001b[0m\u001b[0;34m)\u001b[0m\u001b[0;34m\u001b[0m\u001b[0;34m\u001b[0m\u001b[0m\n\u001b[0m\u001b[1;32m      2\u001b[0m \u001b[0mget_ipython\u001b[0m\u001b[0;34m(\u001b[0m\u001b[0;34m)\u001b[0m\u001b[0;34m.\u001b[0m\u001b[0mrun_line_magic\u001b[0m\u001b[0;34m(\u001b[0m\u001b[0;34m'pinfo'\u001b[0m\u001b[0;34m,\u001b[0m \u001b[0;34m'component'\u001b[0m\u001b[0;34m)\u001b[0m\u001b[0;34m\u001b[0m\u001b[0;34m\u001b[0m\u001b[0m\n",
      "\u001b[0;32m/anaconda3/envs/infolab/lib/python3.7/site-packages/sympl/_core/composite.py\u001b[0m in \u001b[0;36m__init__\u001b[0;34m(self, *args)\u001b[0m\n\u001b[1;32m    198\u001b[0m             \u001b[0;32mwith\u001b[0m \u001b[0mone\u001b[0m \u001b[0manother\u001b[0m\u001b[0;34m.\u001b[0m\u001b[0;34m\u001b[0m\u001b[0;34m\u001b[0m\u001b[0m\n\u001b[1;32m    199\u001b[0m         \"\"\"\n\u001b[0;32m--> 200\u001b[0;31m         \u001b[0msuper\u001b[0m\u001b[0;34m(\u001b[0m\u001b[0mImplicitTendencyComponentComposite\u001b[0m\u001b[0;34m,\u001b[0m \u001b[0mself\u001b[0m\u001b[0;34m)\u001b[0m\u001b[0;34m.\u001b[0m\u001b[0m__init__\u001b[0m\u001b[0;34m(\u001b[0m\u001b[0;34m*\u001b[0m\u001b[0margs\u001b[0m\u001b[0;34m)\u001b[0m\u001b[0;34m\u001b[0m\u001b[0;34m\u001b[0m\u001b[0m\n\u001b[0m\u001b[1;32m    201\u001b[0m         \u001b[0mself\u001b[0m\u001b[0;34m.\u001b[0m\u001b[0minput_properties\u001b[0m\u001b[0;34m\u001b[0m\u001b[0;34m\u001b[0m\u001b[0m\n\u001b[1;32m    202\u001b[0m         \u001b[0mself\u001b[0m\u001b[0;34m.\u001b[0m\u001b[0mtendency_properties\u001b[0m\u001b[0;34m\u001b[0m\u001b[0;34m\u001b[0m\u001b[0m\n",
      "\u001b[0;32m/anaconda3/envs/infolab/lib/python3.7/site-packages/sympl/_core/composite.py\u001b[0m in \u001b[0;36m__init__\u001b[0;34m(self, *args)\u001b[0m\n\u001b[1;32m     87\u001b[0m         \"\"\"\n\u001b[1;32m     88\u001b[0m         \u001b[0;32mif\u001b[0m \u001b[0mself\u001b[0m\u001b[0;34m.\u001b[0m\u001b[0mcomponent_class\u001b[0m \u001b[0;32mis\u001b[0m \u001b[0;32mnot\u001b[0m \u001b[0;32mNone\u001b[0m\u001b[0;34m:\u001b[0m\u001b[0;34m\u001b[0m\u001b[0;34m\u001b[0m\u001b[0m\n\u001b[0;32m---> 89\u001b[0;31m             \u001b[0mensure_components_have_class\u001b[0m\u001b[0;34m(\u001b[0m\u001b[0margs\u001b[0m\u001b[0;34m,\u001b[0m \u001b[0mself\u001b[0m\u001b[0;34m.\u001b[0m\u001b[0mcomponent_class\u001b[0m\u001b[0;34m)\u001b[0m\u001b[0;34m\u001b[0m\u001b[0;34m\u001b[0m\u001b[0m\n\u001b[0m\u001b[1;32m     90\u001b[0m         \u001b[0mself\u001b[0m\u001b[0;34m.\u001b[0m\u001b[0mcomponent_list\u001b[0m \u001b[0;34m=\u001b[0m \u001b[0margs\u001b[0m\u001b[0;34m\u001b[0m\u001b[0;34m\u001b[0m\u001b[0m\n\u001b[1;32m     91\u001b[0m         \u001b[0msuper\u001b[0m\u001b[0;34m(\u001b[0m\u001b[0mComponentComposite\u001b[0m\u001b[0;34m,\u001b[0m \u001b[0mself\u001b[0m\u001b[0;34m)\u001b[0m\u001b[0;34m.\u001b[0m\u001b[0m__init__\u001b[0m\u001b[0;34m(\u001b[0m\u001b[0;34m)\u001b[0m\u001b[0;34m\u001b[0m\u001b[0;34m\u001b[0m\u001b[0m\n",
      "\u001b[0;32m/anaconda3/envs/infolab/lib/python3.7/site-packages/sympl/_core/composite.py\u001b[0m in \u001b[0;36mensure_components_have_class\u001b[0;34m(components, component_class)\u001b[0m\n\u001b[1;32m     97\u001b[0m             raise TypeError(\n\u001b[1;32m     98\u001b[0m                 'Component should be of type {} but is type {}'.format(\n\u001b[0;32m---> 99\u001b[0;31m                     component_class, type(component)))\n\u001b[0m\u001b[1;32m    100\u001b[0m \u001b[0;34m\u001b[0m\u001b[0m\n\u001b[1;32m    101\u001b[0m \u001b[0;34m\u001b[0m\u001b[0m\n",
      "\u001b[0;31mTypeError\u001b[0m: Component should be of type (<class 'sympl._core.base_components.TendencyComponent'>, <class 'sympl._core.base_components.ImplicitTendencyComponent'>) but is type <class 'climt._components.dry_convection.component.DryConvectiveAdjustment'>"
     ]
    }
   ],
   "source": [
    "component = sympl.ImplicitTendencyComponentComposite(radiation, convection, simple_physics)\n",
    "?component"
   ]
  },
  {
   "cell_type": "code",
   "execution_count": 61,
   "metadata": {},
   "outputs": [
    {
     "ename": "NotImplementedError",
     "evalue": "",
     "output_type": "error",
     "traceback": [
      "\u001b[0;31m---------------------------------------------------------------------------\u001b[0m",
      "\u001b[0;31mNotImplementedError\u001b[0m                       Traceback (most recent call last)",
      "\u001b[0;32m<ipython-input-61-3ec7e77adbd7>\u001b[0m in \u001b[0;36m<module>\u001b[0;34m\u001b[0m\n\u001b[1;32m      1\u001b[0m \u001b[0mrad_stepper\u001b[0m \u001b[0;34m=\u001b[0m \u001b[0msympl\u001b[0m\u001b[0;34m.\u001b[0m\u001b[0mTendencyStepper\u001b[0m\u001b[0;34m(\u001b[0m\u001b[0mcomponent\u001b[0m\u001b[0;34m)\u001b[0m\u001b[0;34m\u001b[0m\u001b[0;34m\u001b[0m\u001b[0m\n\u001b[0;32m----> 2\u001b[0;31m \u001b[0mrad_stepper\u001b[0m\u001b[0;34m(\u001b[0m\u001b[0mstate\u001b[0m\u001b[0;34m,\u001b[0m \u001b[0mtimestep\u001b[0m\u001b[0;34m)\u001b[0m\u001b[0;34m\u001b[0m\u001b[0;34m\u001b[0m\u001b[0m\n\u001b[0m",
      "\u001b[0;32m/anaconda3/envs/infolab/lib/python3.7/site-packages/sympl/_core/tendencystepper.py\u001b[0m in \u001b[0;36m__call__\u001b[0;34m(self, state, timestep)\u001b[0m\n\u001b[1;32m    196\u001b[0m                 \u001b[0;34m'__init__ method.'\u001b[0m\u001b[0;34m\u001b[0m\u001b[0;34m\u001b[0m\u001b[0m\n\u001b[1;32m    197\u001b[0m             )\n\u001b[0;32m--> 198\u001b[0;31m         \u001b[0mdiagnostics\u001b[0m\u001b[0;34m,\u001b[0m \u001b[0mnew_state\u001b[0m \u001b[0;34m=\u001b[0m \u001b[0mself\u001b[0m\u001b[0;34m.\u001b[0m\u001b[0m_call\u001b[0m\u001b[0;34m(\u001b[0m\u001b[0mstate\u001b[0m\u001b[0;34m,\u001b[0m \u001b[0mtimestep\u001b[0m\u001b[0;34m)\u001b[0m\u001b[0;34m\u001b[0m\u001b[0;34m\u001b[0m\u001b[0m\n\u001b[0m\u001b[1;32m    199\u001b[0m         \u001b[0mcopy_untouched_quantities\u001b[0m\u001b[0;34m(\u001b[0m\u001b[0mstate\u001b[0m\u001b[0;34m,\u001b[0m \u001b[0mnew_state\u001b[0m\u001b[0;34m)\u001b[0m\u001b[0;34m\u001b[0m\u001b[0;34m\u001b[0m\u001b[0m\n\u001b[1;32m    200\u001b[0m         \u001b[0;32mif\u001b[0m \u001b[0mself\u001b[0m\u001b[0;34m.\u001b[0m\u001b[0mtendencies_in_diagnostics\u001b[0m\u001b[0;34m:\u001b[0m\u001b[0;34m\u001b[0m\u001b[0;34m\u001b[0m\u001b[0m\n",
      "\u001b[0;32m/anaconda3/envs/infolab/lib/python3.7/site-packages/sympl/_core/tendencystepper.py\u001b[0m in \u001b[0;36m_call\u001b[0;34m(self, state, timestep)\u001b[0m\n\u001b[1;32m    247\u001b[0m             \u001b[0mThe\u001b[0m \u001b[0mmodel\u001b[0m \u001b[0mstate\u001b[0m \u001b[0mat\u001b[0m \u001b[0mthe\u001b[0m \u001b[0mnext\u001b[0m \u001b[0mtimestep\u001b[0m\u001b[0;34m.\u001b[0m\u001b[0;34m\u001b[0m\u001b[0;34m\u001b[0m\u001b[0m\n\u001b[1;32m    248\u001b[0m         \"\"\"\n\u001b[0;32m--> 249\u001b[0;31m         \u001b[0;32mraise\u001b[0m \u001b[0mNotImplementedError\u001b[0m\u001b[0;34m(\u001b[0m\u001b[0;34m)\u001b[0m\u001b[0;34m\u001b[0m\u001b[0;34m\u001b[0m\u001b[0m\n\u001b[0m",
      "\u001b[0;31mNotImplementedError\u001b[0m: "
     ]
    }
   ],
   "source": [
    "rad_stepper = sympl.TendencyStepper(component)\n",
    "rad_stepper(state, timestep)"
   ]
  },
  {
   "cell_type": "code",
   "execution_count": null,
   "metadata": {},
   "outputs": [],
   "source": []
  },
  {
   "cell_type": "markdown",
   "metadata": {},
   "source": [
    "We can run all these steps together in timestepper, such as the AdamsBathforth stepper or the GFS Dynamical Core stepper. \n"
   ]
  },
  {
   "cell_type": "code",
   "execution_count": 42,
   "metadata": {},
   "outputs": [],
   "source": [
    "dycore = climt.GFSDynamicalCore(\n",
    "        [simple_physics, radiation,\n",
    "         convection], number_of_damped_levels=5\n",
    "    )\n",
    "    "
   ]
  },
  {
   "cell_type": "code",
   "execution_count": 43,
   "metadata": {},
   "outputs": [],
   "source": [
    "#dycore"
   ]
  },
  {
   "cell_type": "code",
   "execution_count": 48,
   "metadata": {},
   "outputs": [
    {
     "data": {
      "text/plain": [
       "dict_keys(['atmosphere_hybrid_sigma_pressure_a_coordinate_on_interface_levels', 'atmosphere_hybrid_sigma_pressure_b_coordinate_on_interface_levels', 'surface_air_pressure', 'time', 'air_pressure', 'air_pressure_on_interface_levels', 'longitude', 'latitude', 'height_on_ice_interface_levels', 'longwave_optical_depth_on_interface_levels', 'air_temperature', 'surface_temperature', 'specific_humidity', 'eastward_wind', 'northward_wind', 'cloud_base_mass_flux', 'surface_specific_humidity'])"
      ]
     },
     "execution_count": 48,
     "metadata": {},
     "output_type": "execute_result"
    }
   ],
   "source": [
    "state.keys()"
   ]
  },
  {
   "cell_type": "code",
   "execution_count": 45,
   "metadata": {},
   "outputs": [
    {
     "ename": "InvalidStateError",
     "evalue": "Missing input quantity divergence_of_wind",
     "output_type": "error",
     "traceback": [
      "\u001b[0;31m---------------------------------------------------------------------------\u001b[0m",
      "\u001b[0;31mInvalidStateError\u001b[0m                         Traceback (most recent call last)",
      "\u001b[0;32m<ipython-input-45-eae97d1c8c4f>\u001b[0m in \u001b[0;36m<module>\u001b[0;34m\u001b[0m\n\u001b[0;32m----> 1\u001b[0;31m \u001b[0mdiagnostics\u001b[0m\u001b[0;34m,\u001b[0m \u001b[0mnew_state\u001b[0m \u001b[0;34m=\u001b[0m \u001b[0mdycore\u001b[0m\u001b[0;34m(\u001b[0m\u001b[0mstate\u001b[0m\u001b[0;34m,\u001b[0m \u001b[0mtimestep\u001b[0m\u001b[0;34m)\u001b[0m\u001b[0;34m\u001b[0m\u001b[0;34m\u001b[0m\u001b[0m\n\u001b[0m\u001b[1;32m      2\u001b[0m \u001b[0mstate\u001b[0m\u001b[0;34m.\u001b[0m\u001b[0mupdate\u001b[0m\u001b[0;34m(\u001b[0m\u001b[0mdiagnostics\u001b[0m\u001b[0;34m)\u001b[0m\u001b[0;34m\u001b[0m\u001b[0;34m\u001b[0m\u001b[0m\n\u001b[1;32m      3\u001b[0m \u001b[0mstate\u001b[0m\u001b[0;34m.\u001b[0m\u001b[0mupdate\u001b[0m\u001b[0;34m(\u001b[0m\u001b[0mnew_state\u001b[0m\u001b[0;34m)\u001b[0m\u001b[0;34m\u001b[0m\u001b[0;34m\u001b[0m\u001b[0m\n\u001b[1;32m      4\u001b[0m \u001b[0mstate\u001b[0m\u001b[0;34m[\u001b[0m\u001b[0;34m'time'\u001b[0m\u001b[0;34m]\u001b[0m \u001b[0;34m+=\u001b[0m \u001b[0mtimestep\u001b[0m\u001b[0;34m\u001b[0m\u001b[0;34m\u001b[0m\u001b[0m\n",
      "\u001b[0;32m/anaconda3/envs/infolab/lib/python3.7/site-packages/climt/_components/gfs/component.py\u001b[0m in \u001b[0;36m__call__\u001b[0;34m(self, state, timestep)\u001b[0m\n\u001b[1;32m    306\u001b[0m         \"\"\"\n\u001b[1;32m    307\u001b[0m         \u001b[0mself\u001b[0m\u001b[0;34m.\u001b[0m\u001b[0m_check_self_is_initialized\u001b[0m\u001b[0;34m(\u001b[0m\u001b[0;34m)\u001b[0m\u001b[0;34m\u001b[0m\u001b[0;34m\u001b[0m\u001b[0m\n\u001b[0;32m--> 308\u001b[0;31m         \u001b[0mself\u001b[0m\u001b[0;34m.\u001b[0m\u001b[0m_input_checker\u001b[0m\u001b[0;34m.\u001b[0m\u001b[0mcheck_inputs\u001b[0m\u001b[0;34m(\u001b[0m\u001b[0mstate\u001b[0m\u001b[0;34m)\u001b[0m\u001b[0;34m\u001b[0m\u001b[0;34m\u001b[0m\u001b[0m\n\u001b[0m\u001b[1;32m    309\u001b[0m         \u001b[0mraw_state\u001b[0m \u001b[0;34m=\u001b[0m \u001b[0mget_numpy_arrays_with_properties\u001b[0m\u001b[0;34m(\u001b[0m\u001b[0mstate\u001b[0m\u001b[0;34m,\u001b[0m \u001b[0mself\u001b[0m\u001b[0;34m.\u001b[0m\u001b[0minput_properties\u001b[0m\u001b[0;34m)\u001b[0m\u001b[0;34m\u001b[0m\u001b[0;34m\u001b[0m\u001b[0m\n\u001b[1;32m    310\u001b[0m         \u001b[0;32mif\u001b[0m \u001b[0mself\u001b[0m\u001b[0;34m.\u001b[0m\u001b[0muses_tracers\u001b[0m\u001b[0;34m:\u001b[0m\u001b[0;34m\u001b[0m\u001b[0;34m\u001b[0m\u001b[0m\n",
      "\u001b[0;32m/anaconda3/envs/infolab/lib/python3.7/site-packages/sympl/_core/base_components.py\u001b[0m in \u001b[0;36mcheck_inputs\u001b[0;34m(self, state)\u001b[0m\n\u001b[1;32m    138\u001b[0m         \u001b[0;32mfor\u001b[0m \u001b[0mkey\u001b[0m \u001b[0;32min\u001b[0m \u001b[0mself\u001b[0m\u001b[0;34m.\u001b[0m\u001b[0mcomponent\u001b[0m\u001b[0;34m.\u001b[0m\u001b[0minput_properties\u001b[0m\u001b[0;34m.\u001b[0m\u001b[0mkeys\u001b[0m\u001b[0;34m(\u001b[0m\u001b[0;34m)\u001b[0m\u001b[0;34m:\u001b[0m\u001b[0;34m\u001b[0m\u001b[0;34m\u001b[0m\u001b[0m\n\u001b[1;32m    139\u001b[0m             \u001b[0;32mif\u001b[0m \u001b[0mkey\u001b[0m \u001b[0;32mnot\u001b[0m \u001b[0;32min\u001b[0m \u001b[0mstate\u001b[0m\u001b[0;34m.\u001b[0m\u001b[0mkeys\u001b[0m\u001b[0;34m(\u001b[0m\u001b[0;34m)\u001b[0m\u001b[0;34m:\u001b[0m\u001b[0;34m\u001b[0m\u001b[0;34m\u001b[0m\u001b[0m\n\u001b[0;32m--> 140\u001b[0;31m                 \u001b[0;32mraise\u001b[0m \u001b[0mInvalidStateError\u001b[0m\u001b[0;34m(\u001b[0m\u001b[0;34m'Missing input quantity {}'\u001b[0m\u001b[0;34m.\u001b[0m\u001b[0mformat\u001b[0m\u001b[0;34m(\u001b[0m\u001b[0mkey\u001b[0m\u001b[0;34m)\u001b[0m\u001b[0;34m)\u001b[0m\u001b[0;34m\u001b[0m\u001b[0;34m\u001b[0m\u001b[0m\n\u001b[0m\u001b[1;32m    141\u001b[0m \u001b[0;34m\u001b[0m\u001b[0m\n\u001b[1;32m    142\u001b[0m \u001b[0;34m\u001b[0m\u001b[0m\n",
      "\u001b[0;31mInvalidStateError\u001b[0m: Missing input quantity divergence_of_wind"
     ]
    }
   ],
   "source": [
    "diagnostics, new_state = dycore(state, timestep)\n",
    "state.update(diagnostics)\n",
    "state.update(new_state)\n",
    "state['time'] += timestep\n"
   ]
  },
  {
   "cell_type": "code",
   "execution_count": 125,
   "metadata": {},
   "outputs": [
    {
     "ename": "InvalidStateError",
     "evalue": "Missing input quantity divergence_of_wind",
     "output_type": "error",
     "traceback": [
      "\u001b[0;31m---------------------------------------------------------------------------\u001b[0m",
      "\u001b[0;31mInvalidStateError\u001b[0m                         Traceback (most recent call last)",
      "\u001b[0;32m<ipython-input-125-bd7f09a10ac6>\u001b[0m in \u001b[0;36m<module>\u001b[0;34m\u001b[0m\n\u001b[1;32m      1\u001b[0m \u001b[0;32mfor\u001b[0m \u001b[0mstep\u001b[0m \u001b[0;32min\u001b[0m \u001b[0mrange\u001b[0m\u001b[0;34m(\u001b[0m\u001b[0;36m100\u001b[0m\u001b[0;34m)\u001b[0m\u001b[0;34m:\u001b[0m\u001b[0;34m\u001b[0m\u001b[0;34m\u001b[0m\u001b[0m\n\u001b[0;32m----> 2\u001b[0;31m     \u001b[0mdiagnostics\u001b[0m\u001b[0;34m,\u001b[0m \u001b[0mnew_state\u001b[0m \u001b[0;34m=\u001b[0m \u001b[0mdycore\u001b[0m\u001b[0;34m(\u001b[0m\u001b[0mstate\u001b[0m\u001b[0;34m,\u001b[0m \u001b[0mtimestep\u001b[0m\u001b[0;34m)\u001b[0m\u001b[0;34m\u001b[0m\u001b[0;34m\u001b[0m\u001b[0m\n\u001b[0m\u001b[1;32m      3\u001b[0m     \u001b[0mstate\u001b[0m\u001b[0;34m.\u001b[0m\u001b[0mupdate\u001b[0m\u001b[0;34m(\u001b[0m\u001b[0mnew_state\u001b[0m\u001b[0;34m)\u001b[0m\u001b[0;34m\u001b[0m\u001b[0;34m\u001b[0m\u001b[0m\n\u001b[1;32m      4\u001b[0m     \u001b[0mstate\u001b[0m\u001b[0;34m[\u001b[0m\u001b[0;34m'time'\u001b[0m\u001b[0;34m]\u001b[0m \u001b[0;34m+=\u001b[0m \u001b[0mtimestep\u001b[0m\u001b[0;34m\u001b[0m\u001b[0;34m\u001b[0m\u001b[0m\n\u001b[1;32m      5\u001b[0m     \u001b[0;31m#print(state['time'], ': ', state['air_temperature'].max().values)\u001b[0m\u001b[0;34m\u001b[0m\u001b[0;34m\u001b[0m\u001b[0;34m\u001b[0m\u001b[0m\n",
      "\u001b[0;32m/anaconda3/envs/infolab/lib/python3.7/site-packages/climt/_components/gfs/component.py\u001b[0m in \u001b[0;36m__call__\u001b[0;34m(self, state, timestep)\u001b[0m\n\u001b[1;32m    306\u001b[0m         \"\"\"\n\u001b[1;32m    307\u001b[0m         \u001b[0mself\u001b[0m\u001b[0;34m.\u001b[0m\u001b[0m_check_self_is_initialized\u001b[0m\u001b[0;34m(\u001b[0m\u001b[0;34m)\u001b[0m\u001b[0;34m\u001b[0m\u001b[0;34m\u001b[0m\u001b[0m\n\u001b[0;32m--> 308\u001b[0;31m         \u001b[0mself\u001b[0m\u001b[0;34m.\u001b[0m\u001b[0m_input_checker\u001b[0m\u001b[0;34m.\u001b[0m\u001b[0mcheck_inputs\u001b[0m\u001b[0;34m(\u001b[0m\u001b[0mstate\u001b[0m\u001b[0;34m)\u001b[0m\u001b[0;34m\u001b[0m\u001b[0;34m\u001b[0m\u001b[0m\n\u001b[0m\u001b[1;32m    309\u001b[0m         \u001b[0mraw_state\u001b[0m \u001b[0;34m=\u001b[0m \u001b[0mget_numpy_arrays_with_properties\u001b[0m\u001b[0;34m(\u001b[0m\u001b[0mstate\u001b[0m\u001b[0;34m,\u001b[0m \u001b[0mself\u001b[0m\u001b[0;34m.\u001b[0m\u001b[0minput_properties\u001b[0m\u001b[0;34m)\u001b[0m\u001b[0;34m\u001b[0m\u001b[0;34m\u001b[0m\u001b[0m\n\u001b[1;32m    310\u001b[0m         \u001b[0;32mif\u001b[0m \u001b[0mself\u001b[0m\u001b[0;34m.\u001b[0m\u001b[0muses_tracers\u001b[0m\u001b[0;34m:\u001b[0m\u001b[0;34m\u001b[0m\u001b[0;34m\u001b[0m\u001b[0m\n",
      "\u001b[0;32m/anaconda3/envs/infolab/lib/python3.7/site-packages/sympl/_core/base_components.py\u001b[0m in \u001b[0;36mcheck_inputs\u001b[0;34m(self, state)\u001b[0m\n\u001b[1;32m    138\u001b[0m         \u001b[0;32mfor\u001b[0m \u001b[0mkey\u001b[0m \u001b[0;32min\u001b[0m \u001b[0mself\u001b[0m\u001b[0;34m.\u001b[0m\u001b[0mcomponent\u001b[0m\u001b[0;34m.\u001b[0m\u001b[0minput_properties\u001b[0m\u001b[0;34m.\u001b[0m\u001b[0mkeys\u001b[0m\u001b[0;34m(\u001b[0m\u001b[0;34m)\u001b[0m\u001b[0;34m:\u001b[0m\u001b[0;34m\u001b[0m\u001b[0;34m\u001b[0m\u001b[0m\n\u001b[1;32m    139\u001b[0m             \u001b[0;32mif\u001b[0m \u001b[0mkey\u001b[0m \u001b[0;32mnot\u001b[0m \u001b[0;32min\u001b[0m \u001b[0mstate\u001b[0m\u001b[0;34m.\u001b[0m\u001b[0mkeys\u001b[0m\u001b[0;34m(\u001b[0m\u001b[0;34m)\u001b[0m\u001b[0;34m:\u001b[0m\u001b[0;34m\u001b[0m\u001b[0;34m\u001b[0m\u001b[0m\n\u001b[0;32m--> 140\u001b[0;31m                 \u001b[0;32mraise\u001b[0m \u001b[0mInvalidStateError\u001b[0m\u001b[0;34m(\u001b[0m\u001b[0;34m'Missing input quantity {}'\u001b[0m\u001b[0;34m.\u001b[0m\u001b[0mformat\u001b[0m\u001b[0;34m(\u001b[0m\u001b[0mkey\u001b[0m\u001b[0;34m)\u001b[0m\u001b[0;34m)\u001b[0m\u001b[0;34m\u001b[0m\u001b[0;34m\u001b[0m\u001b[0m\n\u001b[0m\u001b[1;32m    141\u001b[0m \u001b[0;34m\u001b[0m\u001b[0m\n\u001b[1;32m    142\u001b[0m \u001b[0;34m\u001b[0m\u001b[0m\n",
      "\u001b[0;31mInvalidStateError\u001b[0m: Missing input quantity divergence_of_wind"
     ]
    }
   ],
   "source": [
    "for step in range(100):\n",
    "    diagnostics, new_state = dycore(state, timestep)\n",
    "    state.update(new_state)\n",
    "    state['time'] += timestep\n",
    "    #print(state['time'], ': ', state['air_temperature'].max().values)\n",
    "    observe_temp = state['air_temperature'][1,0,0]"
   ]
  },
  {
   "cell_type": "code",
   "execution_count": 41,
   "metadata": {},
   "outputs": [
    {
     "data": {
      "image/png": "[encoded data removed]",
      "text/plain": [
       "<Figure size 432x288 with 1 Axes>"
      ]
     },
     "metadata": {
      "needs_background": "light"
     },
     "output_type": "display_data"
    }
   ],
   "source": [
    "import matplotlib.pyplot as plt \n",
    "plt.plot(state['air_temperature'][:,0,0],state['air_pressure'][:,0,0])\n",
    "plt.gca().invert_yaxis()"
   ]
  },
  {
   "cell_type": "code",
   "execution_count": null,
   "metadata": {},
   "outputs": [],
   "source": []
  }
 ],
 "metadata": {
  "kernelspec": {
   "display_name": "Python [conda env:infolab] *",
   "language": "python",
   "name": "conda-env-infolab-py"
  },
  "language_info": {
   "codemirror_mode": {
    "name": "ipython",
    "version": 3
   },
   "file_extension": ".py",
   "mimetype": "text/x-python",
   "name": "python",
   "nbconvert_exporter": "python",
   "pygments_lexer": "ipython3",
   "version": "3.7.3"
  }
 },
 "nbformat": 4,
 "nbformat_minor": 4
}
