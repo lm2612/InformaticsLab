{
 "cells": [
  {
   "cell_type": "markdown",
   "metadata": {},
   "source": [
    "# First test"
   ]
  },
  {
   "cell_type": "code",
   "execution_count": 107,
   "metadata": {},
   "outputs": [],
   "source": [
    "# import required libraries\n",
    "import numpy as np                   \n",
    "import matplotlib.pyplot as plt  \n",
    "\n",
    "import time\n",
    "import sys\n",
    "import torch\n",
    "import pyro\n",
    "import pyro.infer\n",
    "import pyro.optim\n",
    "import pyro.distributions as dist"
   ]
  },
  {
   "cell_type": "code",
   "execution_count": null,
   "metadata": {},
   "outputs": [],
   "source": []
  },
  {
   "cell_type": "markdown",
   "metadata": {},
   "source": [
    "What is probabilistic programming languages (PPL)?\n"
   ]
  },
  {
   "cell_type": "markdown",
   "metadata": {},
   "source": [
    "What would we use probabilistic programming languages for? \n",
    "Inference\n",
    "when and why would it be better than the standard approach\n",
    "\n",
    "probabilistic models\n",
    "conditioning overwrites the other statements that sample - why this"
   ]
  },
  {
   "cell_type": "markdown",
   "metadata": {},
   "source": [
    "## Propagate Single Particle\n",
    "A simple example is a model that propagates a single particle forward in time. We want to infer the speed of propagation. The speed of propagation is drawn from a normal prior, with a prior guess and some variance. From this, the position can be calculated, which is observed with some measurement error.\n",
    "\n",
    "$${\\sf speed} \\, | \\, {\\sf guess} \\sim \\cal {\\sf Normal}({\\sf guess}, 1) $$\n",
    "$$ {\\sf position}_{\\sf final} = {\\sf position}_{\\sf initial} + {\\sf speed}\\times{\\sf time}$$\n",
    "$${\\sf position}_{\\sf observed} \\, | \\, {\\sf guess}, {\\sf speed} \\sim {\\sf Normal}({\\sf position}_{\\sf final}, 0.01)$$\n",
    "\n",
    "Speed is a latent random variable we want to infer. The function for this model is written below:"
   ]
  },
  {
   "cell_type": "code",
   "execution_count": 150,
   "metadata": {},
   "outputs": [],
   "source": [
    "pyro.clear_param_store()\n",
    "def propagate(guess=1.,position_0=0.75,time=0.625):\n",
    "    \"\"\" Parameters:\n",
    "    guess = the user's guess for the speed\n",
    "    position_0 = initial position \n",
    "    time = length of time before observing \"\"\"\n",
    "    # get pyro distribution of speed\n",
    "    speed = pyro.sample(\"speed\", dist.Normal(guess, 0.25))\n",
    "    # final conditions: wave peak at init - c(dt/dx)*NT\n",
    "    position_f = position_0 + speed * time\n",
    "    # final position is observed with a bit of noise\n",
    "    position_obs = pyro.sample(\"position\",dist.Normal(position_f,0.01))\n",
    "    # If we wanted this to be the exact position, we could use\n",
    "    #position_obs = pyro.sample(\"position\",dist.Delta(position_f))\n",
    "    return(speed,position_obs)\n",
    "\n",
    "\n"
   ]
  },
  {
   "cell_type": "markdown",
   "metadata": {},
   "source": [
    "Check this function works by running it 5 times."
   ]
  },
  {
   "cell_type": "code",
   "execution_count": 151,
   "metadata": {},
   "outputs": [
    {
     "name": "stdout",
     "output_type": "stream",
     "text": [
      "speed= tensor(0.6963) , position= tensor(1.1819)\n",
      "speed= tensor(0.5633) , position= tensor(1.0908)\n",
      "speed= tensor(0.8004) , position= tensor(1.2528)\n",
      "speed= tensor(0.9588) , position= tensor(1.3599)\n",
      "speed= tensor(1.1580) , position= tensor(1.4789)\n"
     ]
    }
   ],
   "source": [
    "# Check this gives a different position wave every time depending on the speed sampled\n",
    "for i in range(5):\n",
    "    speed,pos=propagate()\n",
    "    print(\"speed=\",speed,\", position=\",pos)\n"
   ]
  },
  {
   "cell_type": "markdown",
   "metadata": {},
   "source": [
    "Plot a histogram to check this function returns a different speed and position each time."
   ]
  },
  {
   "cell_type": "code",
   "execution_count": 152,
   "metadata": {},
   "outputs": [
    {
     "data": {
      "image/png": "[encoded data removed]",
      "text/plain": [
       "<Figure size 432x288 with 2 Axes>"
      ]
     },
     "metadata": {
      "needs_background": "light"
     },
     "output_type": "display_data"
    }
   ],
   "source": [
    "uncond = [propagate() for i in range(1000)]\n",
    "speed_uncond,pos_uncond = zip(*uncond)\n",
    "fig = plt.figure()\n",
    "ax1 = plt.subplot2grid((1, 2), (0, 0));\n",
    "ax1.hist(speed_uncond,20);\n",
    "ax1.axvline(np.mean(speed_uncond),c=\"k\",ls=\"--\");\n",
    "plt.title('Speed');\n",
    "ax2 = plt.subplot2grid((1, 2), (0, 1));\n",
    "ax2.hist(pos_uncond,20);\n",
    "ax2.axvline(np.mean(pos_uncond),c=\"k\",ls=\"--\");\n",
    "plt.title('Position');"
   ]
  },
  {
   "cell_type": "markdown",
   "metadata": {},
   "source": [
    "## Conditioning\n",
    "We observe the particle at a certain value and put this into the function to create the conditioned version of the function. The condition function in pyro returns a new function (conditioned_propagate) where the position is fixed at the observed value and no longer has to be sampled. The rest of the function remains the same as propagate, with the speed being drawn from the normal distribution as before."
   ]
  },
  {
   "cell_type": "code",
   "execution_count": 153,
   "metadata": {},
   "outputs": [],
   "source": [
    "position_observed = 1.8\n",
    "conditioned_propagate = pyro.condition(propagate,\n",
    "                                       data={\"position\": position_observed})"
   ]
  },
  {
   "cell_type": "code",
   "execution_count": 154,
   "metadata": {},
   "outputs": [
    {
     "data": {
      "image/png": "[encoded data removed]",
      "text/plain": [
       "<Figure size 432x288 with 2 Axes>"
      ]
     },
     "metadata": {
      "needs_background": "light"
     },
     "output_type": "display_data"
    }
   ],
   "source": [
    "# Check this gives the same position wave every time \n",
    "# but a different speed\n",
    "cond = [conditioned_propagate() for i in range(1000)]\n",
    "speed_cond,pos_cond = zip(*cond)\n",
    "fig = plt.figure()\n",
    "ax1 = plt.subplot2grid((1, 2), (0, 0));\n",
    "ax1.hist(speed_cond,20);\n",
    "ax1.axvline(np.mean(speed_cond),c=\"k\",ls=\"--\");\n",
    "plt.title('Speed');\n",
    "ax2 = plt.subplot2grid((1, 2), (0, 1));\n",
    "ax2.hist(pos_cond,20);\n",
    "ax2.axvline(np.mean(pos_cond),c=\"k\",ls=\"--\");\n",
    "plt.title('Position');"
   ]
  },
  {
   "cell_type": "markdown",
   "metadata": {},
   "source": [
    "## Guide\n",
    "The aim is to find the posterior distribution of the latent variables of the model (speed), given the model and the observations.\n",
    "\n",
    "$$({\\sf speed} \\, | \\, {\\sf guess}, {\\sf position}_{\\sf observed}  = 1.8) \\sim \\, ? $$\n",
    "\n",
    "\n",
    "In some scenarios there may be an analytical form of this distribution. But if not, we can use the stochastic variational inference algorithm. This requires a distribution that approximates the posterior distribution, which is called the variational distribution or \"guide\". This function relies on additional parameters called variational parameters, that will be tuned to move the guide towards the posterior distribution. "
   ]
  },
  {
   "cell_type": "markdown",
   "metadata": {},
   "source": [
    "For this example, the speed is sampled from a normal distribution with mean and variance given by the variational parameters, a and b. The initial values of a is the guess and the initial value of b is 1. These parameters will be optimised in stochastic variational inference. Also note that the variance, b, is constrained to be positive."
   ]
  },
  {
   "cell_type": "code",
   "execution_count": 155,
   "metadata": {},
   "outputs": [],
   "source": [
    "from torch.distributions import constraints\n",
    "def guide(guess=1.):\n",
    "    \"\"\" The guide (or variational distribution) approximates \n",
    "    the posterior distribution, using extra variational parameters,\n",
    "    a and b, to sample from the speed distribution. \"\"\"\n",
    "    a = pyro.param(\"a\", torch.tensor(guess))\n",
    "    b = pyro.param(\"b\", torch.tensor(1.), \n",
    "                   constraint=constraints.positive)\n",
    "    speed = pyro.sample(\"speed\", dist.Normal(a,b))\n",
    "    return speed"
   ]
  },
  {
   "cell_type": "markdown",
   "metadata": {},
   "source": [
    "We can plot some samples from the guide, in the same way as before. Note that the guide returns the speed as a tensor (hence the  `.item()` to get the values for the histogram)."
   ]
  },
  {
   "cell_type": "code",
   "execution_count": 156,
   "metadata": {},
   "outputs": [
    {
     "data": {
      "image/png": "[encoded data removed]",
      "text/plain": [
       "<Figure size 432x288 with 1 Axes>"
      ]
     },
     "metadata": {
      "needs_background": "light"
     },
     "output_type": "display_data"
    }
   ],
   "source": [
    "# Check guide distribution by running this function 1000 times\n",
    "pyro.clear_param_store()\n",
    "speed_guide = [guide().item() for i in range(1000)]\n",
    "fig = plt.figure()\n",
    "ax1 = plt.subplot2grid((1, 2), (0, 0));\n",
    "ax1.hist(speed_guide,20);\n",
    "ax1.axvline(np.mean(speed_guide),c=\"k\",ls=\"--\");\n",
    "plt.title('Speed');"
   ]
  },
  {
   "cell_type": "markdown",
   "metadata": {},
   "source": [
    "## Pyro Parameters\n",
    "In the guide, we created Parameters in Pyro using `pyro.param(\"parameter_name\", torch.tensor(parameter_value))`.\n",
    "These are are thin wrappers around PyTorch Tensors with unique names (see http://docs.pyro.ai/en/0.2.1-release/parameters.html). They are saved in the Pyro Parameter Store, a dictionary of the parameters stored:"
   ]
  },
  {
   "cell_type": "code",
   "execution_count": 157,
   "metadata": {},
   "outputs": [
    {
     "name": "stdout",
     "output_type": "stream",
     "text": [
      "<pyro.params.param_store.ParamStoreDict object at 0x119383ac8>\n",
      "dict_keys(['a', 'b'])\n"
     ]
    }
   ],
   "source": [
    "param_store = pyro.get_param_store()\n",
    "print(param_store)\n",
    "print(param_store.keys())"
   ]
  },
  {
   "cell_type": "markdown",
   "metadata": {},
   "source": [
    "The values of the parameters can be accessed using the unique parameter names. "
   ]
  },
  {
   "cell_type": "code",
   "execution_count": 158,
   "metadata": {},
   "outputs": [
    {
     "name": "stdout",
     "output_type": "stream",
     "text": [
      "tensor(1., requires_grad=True)\n"
     ]
    }
   ],
   "source": [
    "a = param_store.get_param(\"a\")\n",
    "print(a)"
   ]
  },
  {
   "cell_type": "markdown",
   "metadata": {},
   "source": [
    "As expected, the value of parameter `a` is the value provided in the guide function. This value can be replaced using the `.replace_param` function.  "
   ]
  },
  {
   "cell_type": "code",
   "execution_count": 159,
   "metadata": {},
   "outputs": [
    {
     "name": "stdout",
     "output_type": "stream",
     "text": [
      "tensor(2., requires_grad=True)\n"
     ]
    }
   ],
   "source": [
    "param_store.replace_param(\"a\",torch.tensor(2.),a)\n",
    "a = param_store.get_param(\"a\")\n",
    "print(a)"
   ]
  },
  {
   "cell_type": "markdown",
   "metadata": {},
   "source": [
    "Now when we call the guide function, the new value of the parameter is used. The line \n",
    "\n",
    "`a = pyro.param(\"a\", torch.tensor(guess))`\n",
    "\n",
    "inside the guide function will not affect the value of the parameter. This can be checked by sampling from the guide many times."
   ]
  },
  {
   "cell_type": "code",
   "execution_count": 160,
   "metadata": {},
   "outputs": [
    {
     "data": {
      "image/png": "[encoded data removed]",
      "text/plain": [
       "<Figure size 432x288 with 1 Axes>"
      ]
     },
     "metadata": {
      "needs_background": "light"
     },
     "output_type": "display_data"
    }
   ],
   "source": [
    "speed_guide = [guide().item() for i in range(1000)]\n",
    "fig = plt.figure()\n",
    "ax1 = plt.subplot2grid((1, 2), (0, 0));\n",
    "ax1.hist(speed_guide,20);\n",
    "ax1.axvline(np.mean(speed_guide),c=\"k\",ls=\"--\");\n",
    "plt.title('Speed');"
   ]
  },
  {
   "cell_type": "markdown",
   "metadata": {},
   "source": [
    "This process is used in the stochastic variational inference, where the parameters are updated in the parameter store at each step, rather than explicitly changing the guide function at each step. Finally, we can reset the values of the parameters using `pyro.clear_param_store()`. "
   ]
  },
  {
   "cell_type": "code",
   "execution_count": 161,
   "metadata": {},
   "outputs": [
    {
     "name": "stdout",
     "output_type": "stream",
     "text": [
      "dict_keys([])\n"
     ]
    }
   ],
   "source": [
    "pyro.clear_param_store()\n",
    "param_store = pyro.get_param_store()\n",
    "print(param_store.keys())"
   ]
  },
  {
   "cell_type": "markdown",
   "metadata": {},
   "source": [
    "## Stochastic Variational Inference\n",
    "We have created a family of guide functions, indexed by named parameters, and want to search for the member of that family that is the best approximation to the posterior distribution, according to some loss function. We use stochastic variational inference , `pyro.infer.SVI`, to optimise the parameters of the guide so that sampling from the guide produces a distribution for `speed` consistent with the model conditioned on observations. \n",
    "The ELBO can be used as a loss function (currently the only loss function that can be used in Pyro)."
   ]
  },
  {
   "cell_type": "code",
   "execution_count": 168,
   "metadata": {},
   "outputs": [
    {
     "name": "stdout",
     "output_type": "stream",
     "text": [
      "7335.984982252121\n"
     ]
    },
    {
     "data": {
      "image/png": "[encoded data removed]",
      "text/plain": [
       "<Figure size 432x288 with 1 Axes>"
      ]
     },
     "metadata": {
      "needs_background": "light"
     },
     "output_type": "display_data"
    }
   ],
   "source": [
    "pyro.clear_param_store()\n",
    "\n",
    "from pyro.optim import Adam\n",
    "adam_params = {\"lr\": 0.001, \"betas\": (0.90, 0.999)}\n",
    "optimizer = Adam(adam_params)\n",
    "\n",
    "svi = pyro.infer.SVI(model=conditioned_propagate, \n",
    "                     guide=guide,\n",
    "                     optim=optimizer,\n",
    "                     loss=pyro.infer.Trace_ELBO())\n",
    "print(svi.step())\n",
    "\n",
    "losses, a,b  = [], [], []\n",
    "num_steps = 10000\n",
    "for t in range(num_steps):\n",
    "    losses.append(svi.step())\n",
    "    a.append(pyro.param(\"a\").item())\n",
    "    b.append(pyro.param(\"b\").item())\n",
    "\n",
    "\n",
    "plt.plot(losses)\n",
    "plt.title(\"ELBO\")\n",
    "plt.xlabel(\"step\")\n",
    "plt.ylabel(\"loss\");\n"
   ]
  },
  {
   "cell_type": "code",
   "execution_count": 169,
   "metadata": {},
   "outputs": [
    {
     "name": "stdout",
     "output_type": "stream",
     "text": [
      "a =  1.6776763200759888\n",
      "b =  0.07344074547290802\n"
     ]
    },
    {
     "data": {
      "image/png": "[encoded data removed]",
      "text/plain": [
       "<Figure size 432x288 with 1 Axes>"
      ]
     },
     "metadata": {
      "needs_background": "light"
     },
     "output_type": "display_data"
    }
   ],
   "source": [
    "print('a = ',pyro.param(\"a\").item())\n",
    "print('b = ',pyro.param(\"b\").item())\n",
    "\n",
    "plt.plot(a);\n",
    "plt.plot(b);"
   ]
  },
  {
   "cell_type": "markdown",
   "metadata": {},
   "source": [
    "Once converged, we have a value of `a` and `b` that can be used in the guide to sample from the speed given the model and the observations. This is an approximation to the posterior distribution. We can also compare this to the analytic speed, which can be calculated for this simple example:"
   ]
  },
  {
   "cell_type": "code",
   "execution_count": 170,
   "metadata": {},
   "outputs": [
    {
     "name": "stdout",
     "output_type": "stream",
     "text": [
      "1.6800000000000002\n"
     ]
    }
   ],
   "source": [
    "# compare against analytic speed\n",
    "peak_0 = 0.75\n",
    "nt = 25    \n",
    "dt = .025\n",
    "speed_analytic = (position_observed - peak_0)/(nt*dt)\n",
    "print(speed_analytic)"
   ]
  },
  {
   "cell_type": "code",
   "execution_count": 171,
   "metadata": {},
   "outputs": [
    {
     "name": "stdout",
     "output_type": "stream",
     "text": [
      "Speed | model, obs ~ N(1.68,0.07)\n"
     ]
    }
   ],
   "source": [
    "param_store = pyro.get_param_store()\n",
    "print(\"Speed | model, obs ~ N({:.2f},{:.2f})\".format(\n",
    "    (param_store.get_param(\"a\").item()),\n",
    "    (param_store.get_param(\"b\").item() ) ))"
   ]
  },
  {
   "cell_type": "code",
   "execution_count": 172,
   "metadata": {},
   "outputs": [
    {
     "data": {
      "text/plain": [
       "tensor(1.6757)"
      ]
     },
     "execution_count": 172,
     "metadata": {},
     "output_type": "execute_result"
    }
   ],
   "source": [
    "def perfect_guide(guess=1.,position_0=0.75,time=0.625):\n",
    "    pos_speed = (1.8 - position_0)/time\n",
    "    v = 0.01/time\n",
    "    loc =(v**2 * guess + 0.25**2 * pos_speed) / (0.25**2 + v**2) # 1.677\n",
    "    sd = np.sqrt(v**2/(0.25**2 + v**2)) # 0.0639\n",
    "    return pyro.sample(\"speed\", dist.Normal(loc, sd))\n",
    "perfect_guide()"
   ]
  },
  {
   "cell_type": "code",
   "execution_count": 177,
   "metadata": {},
   "outputs": [
    {
     "data": {
      "image/png": "[encoded data removed]",
      "text/plain": [
       "<Figure size 432x288 with 2 Axes>"
      ]
     },
     "metadata": {
      "needs_background": "light"
     },
     "output_type": "display_data"
    }
   ],
   "source": [
    "new_speed_guide = [guide().item() for i in range(1000)]\n",
    "exact_guide = [perfect_guide().item() for i in range(1000)]\n",
    "\n",
    "fig = plt.figure()\n",
    "ax1 = plt.subplot2grid((1, 2), (0, 0));\n",
    "ax1.hist(speed_guide,20,alpha=0.75);\n",
    "ax1.axvline(np.mean(speed_guide),c=\"k\",ls=\"--\");\n",
    "ax1.hist(exact_guide,20,color=\"orange\",alpha=0.75);\n",
    "ax1.axvline(1.677,c=\"orange\",ls=\"--\");\n",
    "plt.title('Initial guide')\n",
    "ax2 = plt.subplot2grid((1, 2), (0, 1));\n",
    "ax2.hist(new_speed_guide,20,alpha=0.75);\n",
    "ax2.axvline(np.mean(new_speed_guide),c=\"k\",ls=\"--\");\n",
    "ax2.hist(exact_guide,20,color=\"orange\",alpha=0.75);\n",
    "ax2.axvline(1.677,c=\"orange\",ls=\"--\");\n",
    "plt.title('Final guide');"
   ]
  },
  {
   "cell_type": "markdown",
   "metadata": {},
   "source": [
    "There's also an auto-guide option in pyro."
   ]
  },
  {
   "cell_type": "code",
   "execution_count": 188,
   "metadata": {},
   "outputs": [
    {
     "name": "stdout",
     "output_type": "stream",
     "text": [
      "<pyro.contrib.autoguide.AutoDiagonalNormal object at 0x11a100518>\n"
     ]
    }
   ],
   "source": [
    "import pyro.contrib\n",
    "from pyro.contrib.autoguide import AutoDiagonalNormal\n",
    "autoguide = AutoDiagonalNormal(conditioned_propagate)\n",
    "svi = pyro.infer.SVI(model=conditioned_propagate, \n",
    "                     guide=autoguide,\n",
    "                     optim=optimizer,\n",
    "                     loss=pyro.infer.Trace_ELBO())"
   ]
  },
  {
   "cell_type": "code",
   "execution_count": 192,
   "metadata": {},
   "outputs": [
    {
     "data": {
      "image/png": "[encoded data removed]",
      "text/plain": [
       "<Figure size 432x288 with 1 Axes>"
      ]
     },
     "metadata": {
      "needs_background": "light"
     },
     "output_type": "display_data"
    }
   ],
   "source": [
    "num_steps = 6000\n",
    "losses = []\n",
    "for t in range(num_steps):\n",
    "    losses.append(svi.step())\n",
    "\n",
    "plt.plot(losses)\n",
    "plt.title(\"ELBO\")\n",
    "plt.xlabel(\"step\")\n",
    "plt.ylabel(\"loss\");"
   ]
  },
  {
   "cell_type": "code",
   "execution_count": 193,
   "metadata": {},
   "outputs": [
    {
     "name": "stdout",
     "output_type": "stream",
     "text": [
      "a tensor(1.6723, requires_grad=True)\n",
      "b tensor(0.0521, grad_fn=<AddBackward0>)\n",
      "auto_loc tensor([1.6727], requires_grad=True)\n",
      "auto_scale tensor([0.1563], grad_fn=<AddBackward0>)\n"
     ]
    }
   ],
   "source": [
    "for name, value in pyro.get_param_store().items():\n",
    "    print(name, pyro.param(name))"
   ]
  },
  {
   "cell_type": "code",
   "execution_count": null,
   "metadata": {},
   "outputs": [],
   "source": []
  }
 ],
 "metadata": {
  "kernelspec": {
   "display_name": "Python [conda env:infolab] *",
   "language": "python",
   "name": "conda-env-infolab-py"
  },
  "language_info": {
   "codemirror_mode": {
    "name": "ipython",
    "version": 3
   },
   "file_extension": ".py",
   "mimetype": "text/x-python",
   "name": "python",
   "nbconvert_exporter": "python",
   "pygments_lexer": "ipython3",
   "version": "3.7.3"
  }
 },
 "nbformat": 4,
 "nbformat_minor": 2
}
